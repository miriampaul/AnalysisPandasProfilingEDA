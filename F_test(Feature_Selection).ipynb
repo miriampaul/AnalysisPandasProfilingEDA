{
  "nbformat": 4,
  "nbformat_minor": 0,
  "metadata": {
    "colab": {
      "provenance": [],
      "authorship_tag": "ABX9TyNngOkDCxXr8SQB4RwTl97y",
      "include_colab_link": true
    },
    "kernelspec": {
      "name": "python3",
      "display_name": "Python 3"
    },
    "language_info": {
      "name": "python"
    }
  },
  "cells": [
    {
      "cell_type": "markdown",
      "metadata": {
        "id": "view-in-github",
        "colab_type": "text"
      },
      "source": [
        "<a href=\"https://colab.research.google.com/github/miriampaul/AnalysisPandasProfilingEDA/blob/main/F_test(Feature_Selection).ipynb\" target=\"_parent\"><img src=\"https://colab.research.google.com/assets/colab-badge.svg\" alt=\"Open In Colab\"/></a>"
      ]
    },
    {
      "cell_type": "code",
      "execution_count": 13,
      "metadata": {
        "id": "02yQZ61sHgmF"
      },
      "outputs": [],
      "source": [
        "#F Regression"
      ]
    },
    {
      "cell_type": "code",
      "source": [
        "import pandas as pd\n",
        "f=pd.read_csv(\"/content/Students2.csv\")"
      ],
      "metadata": {
        "id": "ZUAajcvEO-fJ"
      },
      "execution_count": 14,
      "outputs": []
    },
    {
      "cell_type": "code",
      "source": [
        "#Split the columns into Dependent(Y) and Independent(X)\n",
        "x=f.iloc[:, :-1]\n",
        "y=f.iloc[:, -1]"
      ],
      "metadata": {
        "id": "dTQmgt3hu5Yi"
      },
      "execution_count": 15,
      "outputs": []
    },
    {
      "cell_type": "code",
      "source": [
        "#Perform Linear Regression using original datasets\n",
        "from sklearn.linear_model import LinearRegression\n",
        "lr=LinearRegression()"
      ],
      "metadata": {
        "id": "JuzZdXRFvMEk"
      },
      "execution_count": 16,
      "outputs": []
    },
    {
      "cell_type": "code",
      "source": [
        "from sklearn.model_selection import train_test_split\n",
        "X_train , X_test, Y_train, Y_test=\\\n",
        "train_test_split(x, y, test_size=0.4, random_state=1234)"
      ],
      "metadata": {
        "id": "8MNV_UtCxwr0"
      },
      "execution_count": 17,
      "outputs": []
    },
    {
      "cell_type": "code",
      "source": [
        "#SPlit the data and predict Y\n",
        "lr.fit(X_train, Y_train)\n",
        "y_predict=lr.predict(X_test)\n"
      ],
      "metadata": {
        "id": "mbzrVQsfvV-B"
      },
      "execution_count": 18,
      "outputs": []
    },
    {
      "cell_type": "code",
      "source": [
        "#Calulate the Root Mean square error for the regression\n",
        "from sklearn.metrics import mean_squared_error\n",
        "import math\n",
        "rmse=math.sqrt(mean_squared_error(Y_test, y_predict))"
      ],
      "metadata": {
        "id": "rD7qFN6Exvmv"
      },
      "execution_count": 19,
      "outputs": []
    },
    {
      "cell_type": "code",
      "source": [
        "rmse"
      ],
      "metadata": {
        "colab": {
          "base_uri": "https://localhost:8080/"
        },
        "id": "VNHshXjGyQhv",
        "outputId": "f5b36142-8ea7-43e3-a063-ab2fc5b01faf"
      },
      "execution_count": 20,
      "outputs": [
        {
          "output_type": "execute_result",
          "data": {
            "text/plain": [
              "6.982206715357466"
            ]
          },
          "metadata": {},
          "execution_count": 20
        }
      ]
    },
    {
      "cell_type": "code",
      "source": [
        "#import f_regression from sklearn\n",
        "from sklearn.feature_selection import f_regression as fr\n",
        "fr(x, y)"
      ],
      "metadata": {
        "colab": {
          "base_uri": "https://localhost:8080/"
        },
        "id": "XL3k9sP6yRRZ",
        "outputId": "f6805dac-4b6e-4d4f-f1f8-1113a9b98320"
      },
      "execution_count": 21,
      "outputs": [
        {
          "output_type": "execute_result",
          "data": {
            "text/plain": [
              "(array([1.41905913e+02, 4.57019756e+00, 1.44882087e-03, 1.59990513e-01,\n",
              "        3.16606568e-03, 4.04208927e-01]),\n",
              " array([1.77038466e-12, 4.14028344e-02, 9.69907241e-01, 6.92200477e-01,\n",
              "        9.55528076e-01, 5.30086171e-01]))"
            ]
          },
          "metadata": {},
          "execution_count": 21
        }
      ]
    },
    {
      "cell_type": "code",
      "source": [
        "from sklearn.feature_selection import f_regression as fr\n",
        "result=fr(x, y)"
      ],
      "metadata": {
        "id": "haIONDDK1EDv"
      },
      "execution_count": 22,
      "outputs": []
    },
    {
      "cell_type": "code",
      "source": [
        "f_score=result[0]\n",
        "p_values=result[1]"
      ],
      "metadata": {
        "id": "IFRr6VVUnnO_"
      },
      "execution_count": 25,
      "outputs": []
    },
    {
      "cell_type": "code",
      "source": [
        "p_values"
      ],
      "metadata": {
        "colab": {
          "base_uri": "https://localhost:8080/"
        },
        "id": "AYnLGNfgpIZi",
        "outputId": "85518f11-7c3f-477b-cc28-5173be11cbe7"
      },
      "execution_count": 27,
      "outputs": [
        {
          "output_type": "execute_result",
          "data": {
            "text/plain": [
              "array([1.77038466e-12, 4.14028344e-02, 9.69907241e-01, 6.92200477e-01,\n",
              "       9.55528076e-01, 5.30086171e-01])"
            ]
          },
          "metadata": {},
          "execution_count": 27
        }
      ]
    },
    {
      "cell_type": "code",
      "source": [
        "columns=list(x.columns)"
      ],
      "metadata": {
        "id": "6S89ZdkypKWU"
      },
      "execution_count": 28,
      "outputs": []
    },
    {
      "cell_type": "code",
      "source": [
        "columns"
      ],
      "metadata": {
        "colab": {
          "base_uri": "https://localhost:8080/"
        },
        "id": "J4-JJH6ip0iY",
        "outputId": "3894e248-4d50-4703-9dde-b8882a0aecc5"
      },
      "execution_count": 29,
      "outputs": [
        {
          "output_type": "execute_result",
          "data": {
            "text/plain": [
              "['Hours', 'sHours', 'hoursplayed', 'income', 'distance', 'calories']"
            ]
          },
          "metadata": {},
          "execution_count": 29
        }
      ]
    },
    {
      "cell_type": "code",
      "source": [
        "#PRint the table of features, FScore and Pvalues\n",
        "columns=list(x.columns)\n",
        "print(\" \")\n",
        "print(\" \")\n",
        "print(\" \")\n",
        "print(\" Features \", \"F-Score \", \"P-values \" )\n",
        "print(\"----------- ------------- ---------\")"
      ],
      "metadata": {
        "colab": {
          "base_uri": "https://localhost:8080/"
        },
        "id": "44dpDjr1p1UT",
        "outputId": "e13ddd99-8d99-406d-95c7-1c5b39403d70"
      },
      "execution_count": 33,
      "outputs": [
        {
          "output_type": "stream",
          "name": "stdout",
          "text": [
            " \n",
            " \n",
            " \n",
            " Features  F-Score  P-values \n",
            "----------- ------------- ---------\n"
          ]
        }
      ]
    },
    {
      "cell_type": "code",
      "source": [
        "#PRint the table of features, FScore and Pvalues\n",
        "columns=list(x.columns)\n",
        "print(\" \")\n",
        "print(\" \")\n",
        "print(\" \")\n",
        "print(\" Features \", \"F-Score \", \"P-values \" )\n",
        "print(\"------------- -------------- ---------\")\n",
        "for i in range(0, len(columns)):\n",
        "  f1=\"%4.2f\" %f_score[i]\n",
        "  p1=\"%2.6f\" %p_values[i]\n",
        "  print(\" \", columns[i].ljust(12),f1.rjust(8), \" \", p1.rjust(10))"
      ],
      "metadata": {
        "colab": {
          "base_uri": "https://localhost:8080/"
        },
        "id": "Rgf5-B3-uD_I",
        "outputId": "7bf3eee3-9b6a-4168-81e4-b521691bd2ba"
      },
      "execution_count": 37,
      "outputs": [
        {
          "output_type": "stream",
          "name": "stdout",
          "text": [
            " \n",
            " \n",
            " \n",
            " Features  F-Score  P-values \n",
            "------------- -------------- ---------\n",
            "  Hours          141.91     0.000000\n",
            "  sHours           4.57     0.041403\n",
            "  hoursplayed      0.00     0.969907\n",
            "  income           0.16     0.692200\n",
            "  distance         0.00     0.955528\n",
            "  calories         0.40     0.530086\n"
          ]
        }
      ]
    },
    {
      "cell_type": "code",
      "source": [
        "#PRint the table of features, FScore and Pvalues\n",
        "columns=list(x.columns)\n",
        "print(\" \")\n",
        "print(\" \")\n",
        "print(\" \")\n",
        "print(\" Features \", \"F-Score \", \"P-values \" )\n",
        "print(\"----------- ------------- ---------\")"
      ],
      "metadata": {
        "colab": {
          "base_uri": "https://localhost:8080/"
        },
        "outputId": "e13ddd99-8d99-406d-95c7-1c5b39403d70",
        "id": "V9FeLTecu8Lg"
      },
      "execution_count": null,
      "outputs": [
        {
          "output_type": "stream",
          "name": "stdout",
          "text": [
            " \n",
            " \n",
            " \n",
            " Features  F-Score  P-values \n",
            "----------- ------------- ---------\n"
          ]
        }
      ]
    },
    {
      "cell_type": "code",
      "source": [
        "#PRint the table of features, FScore and Pvalues\n",
        "columns=list(x.columns)\n",
        "print(\" \")\n",
        "print(\" \")\n",
        "print(\" \")\n",
        "print(\" Features \", \"F-Score \", \"P-values \" )\n",
        "print(\"----------- ------------- ---------\")"
      ],
      "metadata": {
        "colab": {
          "base_uri": "https://localhost:8080/"
        },
        "outputId": "b83ccec2-4180-4e03-cf81-2ff9eeae2ead",
        "id": "Ut22_IqPu6y4"
      },
      "execution_count": 35,
      "outputs": [
        {
          "output_type": "stream",
          "name": "stdout",
          "text": [
            " \n",
            " \n",
            " \n",
            " Features  F-Score  P-values \n",
            "----------- ------------- ---------\n"
          ]
        }
      ]
    },
    {
      "cell_type": "code",
      "source": [
        "#Dropping value >0.05 Significace level"
      ],
      "metadata": {
        "id": "VN3gxF0ABqGL"
      },
      "execution_count": null,
      "outputs": []
    },
    {
      "cell_type": "code",
      "source": [
        "#Will dropping features have any impact on overall result"
      ],
      "metadata": {
        "id": "h3JS5_aCuq5z"
      },
      "execution_count": 38,
      "outputs": []
    },
    {
      "cell_type": "code",
      "source": [
        "#Perform linear Regression with reduced feature\n",
        "X_train_n=X_train[['Hours', 'sHours']]\n",
        "X_test_n=X_test[['Hours', 'sHours']]"
      ],
      "metadata": {
        "id": "6NiYJacXvg5R"
      },
      "execution_count": 43,
      "outputs": []
    },
    {
      "cell_type": "code",
      "source": [
        "#Fit the data and predict Y for the new model\n",
        "lr1=LinearRegression()\n",
        "lr1.fit(X_train_n, Y_train)\n",
        "y_predict_n=lr1.predict(X_test_n)"
      ],
      "metadata": {
        "id": "Z1xnrU8XvwM4"
      },
      "execution_count": 51,
      "outputs": []
    },
    {
      "cell_type": "code",
      "source": [
        "#RMSE\n",
        "rmse_n=math.sqrt(mean_squared_error(Y_test, y_predict_n))"
      ],
      "metadata": {
        "id": "ZK8F0nrdCpqM"
      },
      "execution_count": 52,
      "outputs": []
    },
    {
      "cell_type": "code",
      "source": [],
      "metadata": {
        "id": "CQIWeJijC5GX"
      },
      "execution_count": null,
      "outputs": []
    }
  ]
}