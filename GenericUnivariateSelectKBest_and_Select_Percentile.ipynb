{
  "nbformat": 4,
  "nbformat_minor": 0,
  "metadata": {
    "colab": {
      "provenance": [],
      "authorship_tag": "ABX9TyPvPa+ff7lmDCv24J+pLA+A",
      "include_colab_link": true
    },
    "kernelspec": {
      "name": "python3",
      "display_name": "Python 3"
    },
    "language_info": {
      "name": "python"
    }
  },
  "cells": [
    {
      "cell_type": "markdown",
      "metadata": {
        "id": "view-in-github",
        "colab_type": "text"
      },
      "source": [
        "<a href=\"https://colab.research.google.com/github/miriampaul/AnalysisPandasProfilingEDA/blob/main/GenericUnivariateSelectKBest_and_Select_Percentile.ipynb\" target=\"_parent\"><img src=\"https://colab.research.google.com/assets/colab-badge.svg\" alt=\"Open In Colab\"/></a>"
      ]
    },
    {
      "cell_type": "code",
      "execution_count": 2,
      "metadata": {
        "id": "RrcktRqIQVDq"
      },
      "outputs": [],
      "source": [
        "#Implement various Feature Selections using Select Transforms\n",
        "#Import pandas, read the file and split into X and Y\n",
        "import pandas as pd\n",
        "f=pd.read_csv(\"/content/Students2.csv\")\n",
        "#Split into X and Y\n",
        "X=f.iloc[:, :-1]\n",
        "Y=f.iloc[:,-1]"
      ]
    },
    {
      "cell_type": "code",
      "source": [
        "#import various select transforms along with the f_regression mode\n",
        "from sklearn.feature_selection import SelectKBest, SelectPercentile,GenericUnivariateSelect, f_regression"
      ],
      "metadata": {
        "id": "79CQlvPHQ3HB"
      },
      "execution_count": 5,
      "outputs": []
    },
    {
      "cell_type": "code",
      "source": [
        "selectorK=SelectKBest(score_func=f_regression, k=3) #Select Top 3 features based on pvalues"
      ],
      "metadata": {
        "id": "AbaDjAQmRMDt"
      },
      "execution_count": 6,
      "outputs": []
    },
    {
      "cell_type": "code",
      "source": [
        "x_k=selectorK.fit_transform(X, Y) #Compare X and Y features\n"
      ],
      "metadata": {
        "id": "x7YZ4E0BRhte"
      },
      "execution_count": 9,
      "outputs": []
    },
    {
      "cell_type": "code",
      "source": [
        "#Get fscore and pvalues from selectK\n",
        "f_score=selectorK.scores_\n"
      ],
      "metadata": {
        "id": "sHUtbv5YRq2H"
      },
      "execution_count": 18,
      "outputs": []
    },
    {
      "cell_type": "code",
      "source": [
        "p_values=selectorK.pvalues_"
      ],
      "metadata": {
        "id": "yUlWz7IfRsAT"
      },
      "execution_count": 17,
      "outputs": []
    },
    {
      "cell_type": "code",
      "source": [
        "#Print the column names with fscore and pvalues"
      ],
      "metadata": {
        "id": "fY1ojkmkS1Xr"
      },
      "execution_count": 13,
      "outputs": []
    },
    {
      "cell_type": "code",
      "source": [
        "columns=list(X.columns)"
      ],
      "metadata": {
        "id": "z6gOW7Q_S4nc"
      },
      "execution_count": 19,
      "outputs": []
    },
    {
      "cell_type": "code",
      "source": [
        "print(\" \")\n",
        "print(\" \")\n",
        "print(\" \")\n",
        "print(\"  Features \", \"  FScore  \", \"Pvalues\")\n",
        "print(\"  ----------,  ------------, --------\")\n",
        "for i in range(0, len(columns)):\n",
        "  f1=\"%4.2f\" %f_score[i]\n",
        "  p1=\"%2.6f\" %p_values[i]\n",
        "  print(\" \", columns[i].ljust(12), f1.rjust(8), \" \", p1.rjust(10))"
      ],
      "metadata": {
        "colab": {
          "base_uri": "https://localhost:8080/"
        },
        "id": "KxKGoz9YTA6p",
        "outputId": "7f796c2c-270c-4087-959c-72881c492310"
      },
      "execution_count": 21,
      "outputs": [
        {
          "output_type": "stream",
          "name": "stdout",
          "text": [
            " \n",
            " \n",
            " \n",
            "  Features    FScore   Pvalues\n",
            "  ----------,  ------------, --------\n",
            "  Hours          141.91     0.000000\n",
            "  sHours           4.57     0.041403\n",
            "  hoursplayed      0.00     0.969907\n",
            "  income           0.16     0.692200\n",
            "  distance         0.00     0.955528\n",
            "  calories         0.40     0.530086\n"
          ]
        }
      ]
    },
    {
      "cell_type": "code",
      "source": [
        " #Get the selected column names\n",
        " cols=selectorK.get_support(indices=True)\n",
        " selected_cols=X.columns[cols].tolist()"
      ],
      "metadata": {
        "id": "WW_2iThGTD8m"
      },
      "execution_count": 29,
      "outputs": []
    },
    {
      "cell_type": "code",
      "source": [],
      "metadata": {
        "id": "63PCr0NgUVfA"
      },
      "execution_count": 29,
      "outputs": []
    },
    {
      "cell_type": "code",
      "source": [
        "cols"
      ],
      "metadata": {
        "colab": {
          "base_uri": "https://localhost:8080/"
        },
        "id": "gN3hx0yqUNOB",
        "outputId": "4bd53c3b-6e79-478d-c307-9ffd9bdff872"
      },
      "execution_count": 30,
      "outputs": [
        {
          "output_type": "execute_result",
          "data": {
            "text/plain": [
              "array([0, 1, 5])"
            ]
          },
          "metadata": {},
          "execution_count": 30
        }
      ]
    },
    {
      "cell_type": "code",
      "source": [
        "selected_cols"
      ],
      "metadata": {
        "colab": {
          "base_uri": "https://localhost:8080/"
        },
        "id": "hH9sulKyUTle",
        "outputId": "cb31414a-4fb2-4f77-9ad8-2b348e0e8127"
      },
      "execution_count": 31,
      "outputs": [
        {
          "output_type": "execute_result",
          "data": {
            "text/plain": [
              "['Hours', 'sHours', 'calories']"
            ]
          },
          "metadata": {},
          "execution_count": 31
        }
      ]
    },
    {
      "cell_type": "code",
      "source": [
        "#SelectPercentile\n",
        "selectorP=SelectPercentile(score_func=f_regression, percentile=50)"
      ],
      "metadata": {
        "id": "d6aOFdbuUU86"
      },
      "execution_count": 33,
      "outputs": []
    },
    {
      "cell_type": "code",
      "source": [
        "X_p=selectorP.fit_transform(X, Y)"
      ],
      "metadata": {
        "id": "PJbX6h-NU2zk"
      },
      "execution_count": 34,
      "outputs": []
    },
    {
      "cell_type": "code",
      "source": [
        "#Get fscore and pvalues\n",
        "f_score1=selectorP.scores_"
      ],
      "metadata": {
        "id": "PSOWLy7mU8Yg"
      },
      "execution_count": 35,
      "outputs": []
    },
    {
      "cell_type": "code",
      "source": [
        "p_values1=selectorP.pvalues_"
      ],
      "metadata": {
        "id": "UbPjF65MVTNo"
      },
      "execution_count": 36,
      "outputs": []
    },
    {
      "cell_type": "code",
      "source": [
        "#Print the column names with f score and pvalues\n",
        "columns=list(X.columns)\n",
        "print(\" \")\n",
        "print(\" \")\n",
        "print(\" \")\n",
        "print(\"  Features  \", 'F-Score  ' , 'P_values  ')\n",
        "print(\"--------------, -----------, ------------\")\n",
        "for i in range(0, len(columns)):\n",
        "  f1=\"%4.2f\" %f_score1[i]\n",
        "  p1=\"%2.6f\" %p_values1[i]\n",
        "  print(\" \", columns[i].ljust(12), f1.rjust(8), \" \", p1.rjust(10))"
      ],
      "metadata": {
        "colab": {
          "base_uri": "https://localhost:8080/"
        },
        "id": "2qeCHH_nVYxu",
        "outputId": "6a30bad4-6bb3-4ae5-93d5-5e40ceedffc8"
      },
      "execution_count": 39,
      "outputs": [
        {
          "output_type": "stream",
          "name": "stdout",
          "text": [
            " \n",
            " \n",
            " \n",
            "  Features   F-Score   P_values  \n",
            "--------------, -----------, ------------\n",
            "  Hours          141.91     0.000000\n",
            "  sHours           4.57     0.041403\n",
            "  hoursplayed      0.00     0.969907\n",
            "  income           0.16     0.692200\n",
            "  distance         0.00     0.955528\n",
            "  calories         0.40     0.530086\n"
          ]
        }
      ]
    },
    {
      "cell_type": "code",
      "source": [
        "#get the selected column names\n",
        "cols=selectorP.get_support(indices=True)\n",
        "selected_cols=X.columns[cols].tolist()"
      ],
      "metadata": {
        "id": "Z-eyTdYWVkrv"
      },
      "execution_count": 40,
      "outputs": []
    },
    {
      "cell_type": "code",
      "source": [
        "cols"
      ],
      "metadata": {
        "colab": {
          "base_uri": "https://localhost:8080/"
        },
        "id": "GiTmiggeWcmW",
        "outputId": "d407811e-4644-4d79-de08-6083b72c57e5"
      },
      "execution_count": 41,
      "outputs": [
        {
          "output_type": "execute_result",
          "data": {
            "text/plain": [
              "array([0, 1, 5])"
            ]
          },
          "metadata": {},
          "execution_count": 41
        }
      ]
    },
    {
      "cell_type": "code",
      "source": [
        "selected_cols"
      ],
      "metadata": {
        "colab": {
          "base_uri": "https://localhost:8080/"
        },
        "id": "Gguq9bAdWeP-",
        "outputId": "53906a31-a17e-4b61-a15d-a6a523fbced5"
      },
      "execution_count": 42,
      "outputs": [
        {
          "output_type": "execute_result",
          "data": {
            "text/plain": [
              "['Hours', 'sHours', 'calories']"
            ]
          },
          "metadata": {},
          "execution_count": 42
        }
      ]
    },
    {
      "cell_type": "code",
      "source": [
        "#Implement Genreic Univariate select transform\n",
        "selectorG1=GenericUnivariateSelect(score_func=f_regression,\n",
        "                                   mode='k_best',\n",
        "                                   param=3)"
      ],
      "metadata": {
        "id": "IWxTty8cWmMV"
      },
      "execution_count": 43,
      "outputs": []
    },
    {
      "cell_type": "code",
      "source": [
        "X_g1=selectorG1.fit_transform(X, Y)"
      ],
      "metadata": {
        "id": "2HkdQKzKXHLb"
      },
      "execution_count": 44,
      "outputs": []
    },
    {
      "cell_type": "code",
      "source": [
        "#Mode- Percentile\n",
        "selectorG2=GenericUnivariateSelect(score_func=f_regression,\n",
        "                                   mode='percentile',\n",
        "                                   param=50)\n",
        "X_g2=selectorG2.fit_transform(X, Y)"
      ],
      "metadata": {
        "id": "Jm6SfQgIXOcL"
      },
      "execution_count": 49,
      "outputs": []
    },
    {
      "cell_type": "code",
      "source": [
        "#Get F score and P values from selectorG1\n",
        "f_score3=selectorG1.scores_\n",
        "pvalues3=selectorG1.pvalues_"
      ],
      "metadata": {
        "id": "YsW94nSCXzpy"
      },
      "execution_count": 51,
      "outputs": []
    },
    {
      "cell_type": "code",
      "source": [
        "#Get F score and P values from selectorG2\n",
        "f_score4=selectorG2.scores_\n",
        "pvalues4=selectorG2.pvalues_\n"
      ],
      "metadata": {
        "id": "nuEfCeXJYUVY"
      },
      "execution_count": 53,
      "outputs": []
    },
    {
      "cell_type": "code",
      "source": [
        "#Print the column names with f score and pvalues\n",
        "columns=list(X.columns)\n",
        "print(\" \")\n",
        "print(\" \")\n",
        "print(\" \")\n",
        "print(\"  Features  \", 'F-Score  ' , 'P_values  ')\n",
        "print(\"--------------, -----------, ------------\")\n",
        "for i in range(0, len(columns)):\n",
        "  f1=\"%4.2f\" %f_score3[i]\n",
        "  p1=\"%2.6f\" %pvalues3[i]\n",
        "  print(\" \", columns[i].ljust(12), f1.rjust(8), \" \", p1.rjust(10))"
      ],
      "metadata": {
        "colab": {
          "base_uri": "https://localhost:8080/"
        },
        "id": "I0_6pUMEYixX",
        "outputId": "566bf406-e926-4ef9-b595-3874c58bd127"
      },
      "execution_count": 54,
      "outputs": [
        {
          "output_type": "stream",
          "name": "stdout",
          "text": [
            " \n",
            " \n",
            " \n",
            "  Features   F-Score   P_values  \n",
            "--------------, -----------, ------------\n",
            "  Hours          141.91     0.000000\n",
            "  sHours           4.57     0.041403\n",
            "  hoursplayed      0.00     0.969907\n",
            "  income           0.16     0.692200\n",
            "  distance         0.00     0.955528\n",
            "  calories         0.40     0.530086\n"
          ]
        }
      ]
    },
    {
      "cell_type": "code",
      "source": [
        "columns=list(X.columns)\n",
        "print(\" \")\n",
        "print(\" \")\n",
        "print(\" \")\n",
        "print(\"  Features  \", 'F-Score  ' , 'P_values  ')\n",
        "print(\"--------------, -----------, ------------\")\n",
        "for i in range(0, len(columns)):\n",
        "  f1=\"%4.2f\" %f_score4[i]\n",
        "  p1=\"%2.6f\" %pvalues4[i]\n",
        "  print(\" \", columns[i].ljust(12), f1.rjust(8), \" \", p1.rjust(10))"
      ],
      "metadata": {
        "colab": {
          "base_uri": "https://localhost:8080/"
        },
        "id": "zfIASDHQYsxl",
        "outputId": "5fd7c9fd-1abc-49ca-a3e0-8822b1cc167e"
      },
      "execution_count": 55,
      "outputs": [
        {
          "output_type": "stream",
          "name": "stdout",
          "text": [
            " \n",
            " \n",
            " \n",
            "  Features   F-Score   P_values  \n",
            "--------------, -----------, ------------\n",
            "  Hours          141.91     0.000000\n",
            "  sHours           4.57     0.041403\n",
            "  hoursplayed      0.00     0.969907\n",
            "  income           0.16     0.692200\n",
            "  distance         0.00     0.955528\n",
            "  calories         0.40     0.530086\n"
          ]
        }
      ]
    },
    {
      "cell_type": "markdown",
      "source": [],
      "metadata": {
        "id": "1e3rI6RXWbZ2"
      }
    }
  ]
}