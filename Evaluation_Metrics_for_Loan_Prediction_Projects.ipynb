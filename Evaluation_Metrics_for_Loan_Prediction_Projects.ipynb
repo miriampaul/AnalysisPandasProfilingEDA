{
  "nbformat": 4,
  "nbformat_minor": 0,
  "metadata": {
    "colab": {
      "provenance": [],
      "authorship_tag": "ABX9TyNedF2aKmo8AQyKs1ImYiOR",
      "include_colab_link": true
    },
    "kernelspec": {
      "name": "python3",
      "display_name": "Python 3"
    },
    "language_info": {
      "name": "python"
    }
  },
  "cells": [
    {
      "cell_type": "markdown",
      "metadata": {
        "id": "view-in-github",
        "colab_type": "text"
      },
      "source": [
        "<a href=\"https://colab.research.google.com/github/miriampaul/AnalysisPandasProfilingEDA/blob/main/Evaluation_Metrics_for_Loan_Prediction_Projects.ipynb\" target=\"_parent\"><img src=\"https://colab.research.google.com/assets/colab-badge.svg\" alt=\"Open In Colab\"/></a>"
      ]
    },
    {
      "cell_type": "code",
      "execution_count": 1,
      "metadata": {
        "id": "QcwAcfA5jCnR"
      },
      "outputs": [],
      "source": [
        "import pandas as pd"
      ]
    },
    {
      "cell_type": "code",
      "source": [
        "#Read the data and create a copy\n",
        "LoanData=pd.read_csv(\"/content/01Exercise1.csv\")\n",
        "LoanPrep=LoanData.copy()"
      ],
      "metadata": {
        "id": "EO7tmjsXjTUH"
      },
      "execution_count": 3,
      "outputs": []
    },
    {
      "cell_type": "code",
      "source": [
        "#Find out columns with missing values\n",
        "LoanPrep.isnull().sum(axis=0)"
      ],
      "metadata": {
        "colab": {
          "base_uri": "https://localhost:8080/",
          "height": 272
        },
        "id": "qc6DRgRTjgXb",
        "outputId": "fac45d2f-7155-48ec-c611-5d832f4a0065"
      },
      "execution_count": 4,
      "outputs": [
        {
          "output_type": "execute_result",
          "data": {
            "text/plain": [
              "gender     13\n",
              "married     3\n",
              "ch         50\n",
              "income      0\n",
              "loanamt    22\n",
              "status      0\n",
              "dtype: int64"
            ],
            "text/html": [
              "<div>\n",
              "<style scoped>\n",
              "    .dataframe tbody tr th:only-of-type {\n",
              "        vertical-align: middle;\n",
              "    }\n",
              "\n",
              "    .dataframe tbody tr th {\n",
              "        vertical-align: top;\n",
              "    }\n",
              "\n",
              "    .dataframe thead th {\n",
              "        text-align: right;\n",
              "    }\n",
              "</style>\n",
              "<table border=\"1\" class=\"dataframe\">\n",
              "  <thead>\n",
              "    <tr style=\"text-align: right;\">\n",
              "      <th></th>\n",
              "      <th>0</th>\n",
              "    </tr>\n",
              "  </thead>\n",
              "  <tbody>\n",
              "    <tr>\n",
              "      <th>gender</th>\n",
              "      <td>13</td>\n",
              "    </tr>\n",
              "    <tr>\n",
              "      <th>married</th>\n",
              "      <td>3</td>\n",
              "    </tr>\n",
              "    <tr>\n",
              "      <th>ch</th>\n",
              "      <td>50</td>\n",
              "    </tr>\n",
              "    <tr>\n",
              "      <th>income</th>\n",
              "      <td>0</td>\n",
              "    </tr>\n",
              "    <tr>\n",
              "      <th>loanamt</th>\n",
              "      <td>22</td>\n",
              "    </tr>\n",
              "    <tr>\n",
              "      <th>status</th>\n",
              "      <td>0</td>\n",
              "    </tr>\n",
              "  </tbody>\n",
              "</table>\n",
              "</div><br><label><b>dtype:</b> int64</label>"
            ]
          },
          "metadata": {},
          "execution_count": 4
        }
      ]
    },
    {
      "cell_type": "code",
      "source": [
        "#Replace missing values, Drop the rows\n",
        "LoanPrep=LoanPrep.dropna()"
      ],
      "metadata": {
        "id": "L13HIpdQjm6Z"
      },
      "execution_count": 5,
      "outputs": []
    },
    {
      "cell_type": "code",
      "source": [
        "#Drop irrelevant columns based on buisines sense\n",
        "LoanPrep=LoanPrep.drop(['gender'], axis=1)"
      ],
      "metadata": {
        "id": "WVejVDDIjtGa"
      },
      "execution_count": 6,
      "outputs": []
    },
    {
      "cell_type": "code",
      "source": [
        "#Create Dummy variables\n",
        "LoanPrep.dtypes\n",
        "LoanPrep=pd.get_dummies(LoanPrep, drop_first=True)"
      ],
      "metadata": {
        "id": "6qP1j76mj7G4"
      },
      "execution_count": 7,
      "outputs": []
    },
    {
      "cell_type": "code",
      "source": [
        "#Normalize the Data(Income and Loan Amount) Using Standardscaler\n",
        "from sklearn.preprocessing import StandardScaler\n",
        "scalar_=StandardScaler()"
      ],
      "metadata": {
        "id": "1J4-XoxlkGkN"
      },
      "execution_count": 8,
      "outputs": []
    },
    {
      "cell_type": "code",
      "source": [
        "LoanPrep['income']=scalar_.fit_transform(LoanPrep[['income']])\n",
        "LoanPrep['loanamt']=scalar_.fit_transform(LoanPrep[['loanamt']])"
      ],
      "metadata": {
        "id": "sFW04_xxkYQ9"
      },
      "execution_count": 9,
      "outputs": []
    },
    {
      "cell_type": "code",
      "source": [
        "#Create the X(Independent) and Y(Dependent) dataframes\n",
        "Y=LoanPrep[['status_Y']]\n",
        "X=LoanPrep.drop(['status_Y'], axis=1)"
      ],
      "metadata": {
        "id": "bBUsVFSHlR63"
      },
      "execution_count": 10,
      "outputs": []
    },
    {
      "cell_type": "code",
      "source": [
        "#Split the X and Y dataset into training and testing set\n",
        "from sklearn.model_selection import train_test_split\n",
        "X_train, X_test, Y_train, Y_test=\\\n",
        "train_test_split(X, Y, test_size=0.3, random_state=1234, stratify=Y)"
      ],
      "metadata": {
        "id": "NU3MThELle5Z"
      },
      "execution_count": 11,
      "outputs": []
    },
    {
      "cell_type": "code",
      "source": [
        "#Build the Logistic Regression Model\n",
        "from sklearn.linear_model import LogisticRegression\n",
        "lr=LogisticRegression()\n",
        "lr.fit(X_train, Y_train)\n",
        "Y_predict=lr.predict(X_test)"
      ],
      "metadata": {
        "colab": {
          "base_uri": "https://localhost:8080/"
        },
        "id": "bCFyMq8hl1ZE",
        "outputId": "63d19c8e-48f8-47f3-e162-281e52b36b9d"
      },
      "execution_count": 13,
      "outputs": [
        {
          "output_type": "stream",
          "name": "stderr",
          "text": [
            "/usr/local/lib/python3.11/dist-packages/sklearn/utils/validation.py:1408: DataConversionWarning: A column-vector y was passed when a 1d array was expected. Please change the shape of y to (n_samples, ), for example using ravel().\n",
            "  y = column_or_1d(y, warn=True)\n"
          ]
        }
      ]
    },
    {
      "cell_type": "code",
      "source": [
        "#Build the confusion matrix and get the accuracy/score\n",
        "from sklearn.metrics import confusion_matrix\n",
        "cm=confusion_matrix(Y_test, Y_predict)\n",
        "score=lr.score(X_test, Y_test)"
      ],
      "metadata": {
        "id": "Fw4pF5tImGaW"
      },
      "execution_count": 14,
      "outputs": []
    },
    {
      "cell_type": "code",
      "source": [
        "from sklearn.metrics import confusion_matrix, classification_report, accuracy_score\n",
        "cm=confusion_matrix(Y_test, Y_predict)\n",
        "score=lr.score(X_test, Y_test)\n",
        "\n",
        "cr=classification_report(Y_test, Y_predict)"
      ],
      "metadata": {
        "id": "s0NPKExOmc6b"
      },
      "execution_count": 21,
      "outputs": []
    },
    {
      "cell_type": "code",
      "source": [
        "cr"
      ],
      "metadata": {
        "colab": {
          "base_uri": "https://localhost:8080/",
          "height": 87
        },
        "id": "OtqORCsnoBnb",
        "outputId": "300310d7-240f-4f60-db9c-411ac5584e15"
      },
      "execution_count": 19,
      "outputs": [
        {
          "output_type": "execute_result",
          "data": {
            "text/plain": [
              "'              precision    recall  f1-score   support\\n\\n       False       0.94      0.59      0.72        49\\n        True       0.84      0.98      0.91       110\\n\\n    accuracy                           0.86       159\\n   macro avg       0.89      0.79      0.82       159\\nweighted avg       0.87      0.86      0.85       159\\n'"
            ],
            "application/vnd.google.colaboratory.intrinsic+json": {
              "type": "string"
            }
          },
          "metadata": {},
          "execution_count": 19
        }
      ]
    },
    {
      "cell_type": "code",
      "source": [
        "score2=accuracy_score(Y_test, Y_predict)"
      ],
      "metadata": {
        "id": "vh1oUD_JoCXM"
      },
      "execution_count": 22,
      "outputs": []
    },
    {
      "cell_type": "code",
      "source": [
        "score2"
      ],
      "metadata": {
        "colab": {
          "base_uri": "https://localhost:8080/"
        },
        "id": "YXxtcTjyoKw3",
        "outputId": "6aeeb96d-c827-4abf-9387-537f87689dd2"
      },
      "execution_count": 23,
      "outputs": [
        {
          "output_type": "execute_result",
          "data": {
            "text/plain": [
              "0.8616352201257862"
            ]
          },
          "metadata": {},
          "execution_count": 23
        }
      ]
    }
  ]
}