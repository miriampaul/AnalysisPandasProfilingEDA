{
  "nbformat": 4,
  "nbformat_minor": 0,
  "metadata": {
    "colab": {
      "provenance": [],
      "authorship_tag": "ABX9TyPVa/Nciz4zcAOv1x9x9i0x",
      "include_colab_link": true
    },
    "kernelspec": {
      "name": "python3",
      "display_name": "Python 3"
    },
    "language_info": {
      "name": "python"
    }
  },
  "cells": [
    {
      "cell_type": "markdown",
      "metadata": {
        "id": "view-in-github",
        "colab_type": "text"
      },
      "source": [
        "<a href=\"https://colab.research.google.com/github/miriampaul/AnalysisPandasProfilingEDA/blob/main/Predict_Loan_Approval_Logistic_Regression.ipynb\" target=\"_parent\"><img src=\"https://colab.research.google.com/assets/colab-badge.svg\" alt=\"Open In Colab\"/></a>"
      ]
    },
    {
      "cell_type": "code",
      "execution_count": null,
      "metadata": {
        "id": "6-5t7tOaWzhO"
      },
      "outputs": [],
      "source": []
    },
    {
      "cell_type": "markdown",
      "source": [
        "Problem Statement: Finance Company wants to automate loan approval process , Identify customers whose loan will be approved."
      ],
      "metadata": {
        "id": "hhJhTxBgXZX1"
      }
    },
    {
      "cell_type": "markdown",
      "source": [
        "Solution Steps:\n",
        "1. Import libraries and Read data\n",
        "2. Identify and Deal with Missing Values\n",
        "3. Create Dummy Variables\n",
        "4. Normalize the data\n",
        "5. Select the relevant columns\n",
        "6. Split the dataset into Training and Test Datasets\n",
        "7. Train and Evaluate the model\n"
      ],
      "metadata": {
        "id": "M-1N-iZuZY9t"
      }
    },
    {
      "cell_type": "markdown",
      "source": [],
      "metadata": {
        "id": "UIetG1LxXYUT"
      }
    }
  ]
}